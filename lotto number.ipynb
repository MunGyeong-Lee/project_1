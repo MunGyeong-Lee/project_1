{
 "cells": [
  {
   "cell_type": "code",
   "execution_count": 1,
   "metadata": {},
   "outputs": [],
   "source": [
    "from tkinter import *\n",
    "win=Tk()\n",
    "win.geometry(\"300x100\")\n",
    "win.option_add(\"*font\",\"맑은고딕 25\")\n",
    "\n",
    "ent= Entry(win)\n",
    "ent.pack()\n",
    "\n",
    "def lotto_p():\n",
    "    import requests\n",
    "    from bs4 import BeautifulSoup\n",
    "    n= ent.get()\n",
    "    url= \"https://dhlottery.co.kr/gameResult.do?method=byWin&drwNo={}\".format(n)\n",
    "    req= requests.get(url)\n",
    "    soup = BeautifulSoup(req.text,\"html.parser\")\n",
    "    txt= soup.find(\"div\",attrs={\"class\",\"win_result\"}).get_text()\n",
    "    num_list= txt.split(\"\\n\")[7:13]\n",
    "    bonus= txt.split(\"\\n\")[-4]\n",
    "    \n",
    "    print(\"당첨번호\")\n",
    "    print(num_list)\n",
    "    print(\"보너스번호\")\n",
    "    print(bonus)\n",
    "\n",
    "url= \"https://dhlottery.co.kr/gameResult.do?method=byWin&drwNo=1117\"\n",
    "#div clas= 'win_result'\n",
    "\n",
    "btn= Button(win)\n",
    "btn.config(text= \"로또 당첨 번호 확인\")\n",
    "btn.config(command = lotto_p)\n",
    "btn.pack()\n",
    "win.mainloop()"
   ]
  }
 ],
 "metadata": {
  "kernelspec": {
   "display_name": "lotto",
   "language": "python",
   "name": "lotto"
  },
  "language_info": {
   "codemirror_mode": {
    "name": "ipython",
    "version": 3
   },
   "file_extension": ".py",
   "mimetype": "text/x-python",
   "name": "python",
   "nbconvert_exporter": "python",
   "pygments_lexer": "ipython3",
   "version": "3.11.7"
  }
 },
 "nbformat": 4,
 "nbformat_minor": 2
}
